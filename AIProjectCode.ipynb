{
 "cells": [
  {
   "cell_type": "code",
   "execution_count": 16,
   "id": "ceramic-black",
   "metadata": {
    "scrolled": true
   },
   "outputs": [
    {
     "name": "stdout",
     "output_type": "stream",
     "text": [
      "Epoch 1/100\n",
      "28/28 [==============================] - 10s 219ms/step - loss: 0.0064\n",
      "Epoch 2/100\n",
      "28/28 [==============================] - 6s 206ms/step - loss: 2.3795e-04\n",
      "Epoch 3/100\n",
      "28/28 [==============================] - 6s 215ms/step - loss: 1.1251e-04\n",
      "Epoch 4/100\n",
      "28/28 [==============================] - 6s 207ms/step - loss: 1.0289e-04\n",
      "Epoch 5/100\n",
      "28/28 [==============================] - 6s 214ms/step - loss: 9.8680e-05\n",
      "Epoch 6/100\n",
      "28/28 [==============================] - 6s 198ms/step - loss: 9.5609e-05\n",
      "Epoch 7/100\n",
      "28/28 [==============================] - 6s 208ms/step - loss: 9.0896e-05\n",
      "Epoch 8/100\n",
      "28/28 [==============================] - 5s 193ms/step - loss: 8.9275e-05\n",
      "Epoch 9/100\n",
      "28/28 [==============================] - 5s 192ms/step - loss: 8.1791e-05\n",
      "Epoch 10/100\n",
      "28/28 [==============================] - 5s 192ms/step - loss: 7.8790e-05\n",
      "Epoch 11/100\n",
      "28/28 [==============================] - 5s 196ms/step - loss: 8.3834e-05\n",
      "Epoch 12/100\n",
      "28/28 [==============================] - 5s 192ms/step - loss: 7.1918e-05\n",
      "Epoch 13/100\n",
      "28/28 [==============================] - 5s 190ms/step - loss: 7.1947e-05\n",
      "Epoch 14/100\n",
      "28/28 [==============================] - 5s 193ms/step - loss: 6.7222e-05\n",
      "Epoch 15/100\n",
      "28/28 [==============================] - 5s 193ms/step - loss: 6.8081e-05\n",
      "Epoch 16/100\n",
      "28/28 [==============================] - 5s 196ms/step - loss: 6.3017e-05\n",
      "Epoch 17/100\n",
      "28/28 [==============================] - 5s 192ms/step - loss: 6.9313e-05\n",
      "Epoch 18/100\n",
      "28/28 [==============================] - 5s 196ms/step - loss: 6.5755e-05\n",
      "Epoch 19/100\n",
      "28/28 [==============================] - 5s 190ms/step - loss: 6.0034e-05\n",
      "Epoch 20/100\n",
      "28/28 [==============================] - 5s 192ms/step - loss: 5.9417e-05\n",
      "Epoch 21/100\n",
      "28/28 [==============================] - 5s 189ms/step - loss: 6.4961e-05\n",
      "Epoch 22/100\n",
      "28/28 [==============================] - 5s 193ms/step - loss: 5.7946e-05\n",
      "Epoch 23/100\n",
      "28/28 [==============================] - 5s 193ms/step - loss: 6.3464e-05\n",
      "Epoch 24/100\n",
      "28/28 [==============================] - 5s 190ms/step - loss: 8.6448e-05\n",
      "Epoch 25/100\n",
      "28/28 [==============================] - 5s 196ms/step - loss: 5.8881e-05\n",
      "Epoch 26/100\n",
      "28/28 [==============================] - 5s 193ms/step - loss: 5.5512e-05\n",
      "Epoch 27/100\n",
      "28/28 [==============================] - 5s 189ms/step - loss: 5.4510e-05\n",
      "Epoch 28/100\n",
      "28/28 [==============================] - 5s 193ms/step - loss: 5.4312e-05\n",
      "Epoch 29/100\n",
      "28/28 [==============================] - 5s 189ms/step - loss: 6.1314e-05\n",
      "Epoch 30/100\n",
      "28/28 [==============================] - 5s 193ms/step - loss: 5.5361e-05\n",
      "Epoch 31/100\n",
      "28/28 [==============================] - 5s 193ms/step - loss: 6.4701e-05\n",
      "Epoch 32/100\n",
      "28/28 [==============================] - 5s 186ms/step - loss: 4.8807e-05\n",
      "Epoch 33/100\n",
      "28/28 [==============================] - 5s 192ms/step - loss: 5.2104e-05\n",
      "Epoch 34/100\n",
      "28/28 [==============================] - 5s 189ms/step - loss: 4.3974e-05\n",
      "Epoch 35/100\n",
      "28/28 [==============================] - 5s 189ms/step - loss: 5.7489e-05\n",
      "Epoch 36/100\n",
      "28/28 [==============================] - 5s 196ms/step - loss: 5.0801e-05\n",
      "Epoch 37/100\n",
      "28/28 [==============================] - 5s 193ms/step - loss: 4.6228e-05 1s - loss: 4.6\n",
      "Epoch 38/100\n",
      "28/28 [==============================] - 5s 193ms/step - loss: 5.5885e-05\n",
      "Epoch 39/100\n",
      "28/28 [==============================] - 5s 193ms/step - loss: 6.1208e-05\n",
      "Epoch 40/100\n",
      "28/28 [==============================] - 5s 195ms/step - loss: 4.3888e-05\n",
      "Epoch 41/100\n",
      "28/28 [==============================] - 6s 196ms/step - loss: 4.4248e-05\n",
      "Epoch 42/100\n",
      "28/28 [==============================] - 5s 196ms/step - loss: 5.2050e-05\n",
      "Epoch 43/100\n",
      "28/28 [==============================] - 5s 193ms/step - loss: 4.8407e-05\n",
      "Epoch 44/100\n",
      "28/28 [==============================] - 5s 196ms/step - loss: 4.0340e-05\n",
      "Epoch 45/100\n",
      "28/28 [==============================] - 5s 192ms/step - loss: 4.3325e-05\n",
      "Epoch 46/100\n",
      "28/28 [==============================] - 5s 192ms/step - loss: 4.0750e-05\n",
      "Epoch 47/100\n",
      "28/28 [==============================] - 5s 193ms/step - loss: 5.3766e-05\n",
      "Epoch 48/100\n",
      "28/28 [==============================] - 6s 201ms/step - loss: 5.1448e-05\n",
      "Epoch 49/100\n",
      "28/28 [==============================] - 6s 199ms/step - loss: 4.0857e-05\n",
      "Epoch 50/100\n",
      "28/28 [==============================] - 6s 197ms/step - loss: 4.0939e-05\n",
      "Epoch 51/100\n",
      "28/28 [==============================] - 5s 192ms/step - loss: 4.1254e-05\n",
      "Epoch 52/100\n",
      "28/28 [==============================] - 5s 190ms/step - loss: 4.2629e-05\n",
      "Epoch 53/100\n",
      "28/28 [==============================] - 6s 199ms/step - loss: 4.0244e-05\n",
      "Epoch 54/100\n",
      "28/28 [==============================] - 6s 201ms/step - loss: 5.2077e-05\n",
      "Epoch 55/100\n",
      "28/28 [==============================] - 6s 199ms/step - loss: 4.6654e-05\n",
      "Epoch 56/100\n",
      "28/28 [==============================] - 6s 199ms/step - loss: 3.4647e-05\n",
      "Epoch 57/100\n",
      "28/28 [==============================] - 5s 196ms/step - loss: 3.7339e-05\n",
      "Epoch 58/100\n",
      "28/28 [==============================] - 6s 196ms/step - loss: 4.6478e-05\n",
      "Epoch 59/100\n",
      "28/28 [==============================] - 5s 189ms/step - loss: 3.4724e-05\n",
      "Epoch 60/100\n",
      "28/28 [==============================] - 6s 203ms/step - loss: 3.6398e-05\n",
      "Epoch 61/100\n",
      "28/28 [==============================] - 6s 199ms/step - loss: 3.4300e-05\n",
      "Epoch 62/100\n",
      "28/28 [==============================] - 5s 196ms/step - loss: 3.0374e-05\n",
      "Epoch 63/100\n",
      "28/28 [==============================] - 6s 197ms/step - loss: 3.4176e-05\n",
      "Epoch 64/100\n",
      "28/28 [==============================] - 5s 192ms/step - loss: 3.4125e-05\n",
      "Epoch 65/100\n",
      "28/28 [==============================] - 6s 197ms/step - loss: 3.7792e-05\n",
      "Epoch 66/100\n",
      "28/28 [==============================] - 5s 193ms/step - loss: 3.4162e-05\n",
      "Epoch 67/100\n",
      "28/28 [==============================] - 5s 188ms/step - loss: 4.2031e-05\n",
      "Epoch 68/100\n",
      "28/28 [==============================] - 5s 192ms/step - loss: 3.1576e-05\n",
      "Epoch 69/100\n",
      "28/28 [==============================] - 5s 193ms/step - loss: 4.6837e-05\n",
      "Epoch 70/100\n",
      "28/28 [==============================] - 6s 199ms/step - loss: 2.9045e-05\n",
      "Epoch 71/100\n",
      "28/28 [==============================] - 5s 196ms/step - loss: 2.7911e-05\n",
      "Epoch 72/100\n",
      "28/28 [==============================] - 5s 195ms/step - loss: 2.7647e-05\n",
      "Epoch 73/100\n",
      "28/28 [==============================] - 6s 201ms/step - loss: 4.1821e-05\n",
      "Epoch 74/100\n",
      "28/28 [==============================] - 5s 193ms/step - loss: 2.9294e-05\n",
      "Epoch 75/100\n",
      "28/28 [==============================] - 5s 193ms/step - loss: 3.2325e-05\n",
      "Epoch 76/100\n",
      "28/28 [==============================] - 5s 196ms/step - loss: 3.9665e-05\n",
      "Epoch 77/100\n",
      "28/28 [==============================] - 6s 197ms/step - loss: 3.0015e-05\n",
      "Epoch 78/100\n",
      "28/28 [==============================] - 5s 196ms/step - loss: 2.7172e-05\n",
      "Epoch 79/100\n",
      "28/28 [==============================] - 6s 199ms/step - loss: 2.5859e-05\n",
      "Epoch 80/100\n",
      "28/28 [==============================] - 5s 193ms/step - loss: 3.1783e-05\n",
      "Epoch 81/100\n",
      "28/28 [==============================] - 5s 196ms/step - loss: 2.5322e-05\n",
      "Epoch 82/100\n",
      "28/28 [==============================] - 6s 197ms/step - loss: 2.8679e-05\n",
      "Epoch 83/100\n",
      "28/28 [==============================] - 6s 196ms/step - loss: 2.8128e-05\n",
      "Epoch 84/100\n",
      "28/28 [==============================] - 5s 195ms/step - loss: 2.4958e-05\n",
      "Epoch 85/100\n",
      "28/28 [==============================] - 6s 197ms/step - loss: 2.6120e-05\n",
      "Epoch 86/100\n",
      "28/28 [==============================] - 5s 193ms/step - loss: 3.1712e-05\n",
      "Epoch 87/100\n",
      "28/28 [==============================] - 5s 195ms/step - loss: 2.8201e-05\n",
      "Epoch 88/100\n",
      "28/28 [==============================] - 5s 192ms/step - loss: 2.5764e-05\n",
      "Epoch 89/100\n",
      "28/28 [==============================] - 5s 188ms/step - loss: 3.0516e-05\n",
      "Epoch 90/100\n",
      "28/28 [==============================] - 5s 194ms/step - loss: 3.2467e-05\n",
      "Epoch 91/100\n",
      "28/28 [==============================] - 5s 192ms/step - loss: 3.5969e-05\n",
      "Epoch 92/100\n",
      "28/28 [==============================] - 5s 190ms/step - loss: 2.7045e-05\n",
      "Epoch 93/100\n",
      "28/28 [==============================] - 5s 192ms/step - loss: 3.8721e-05\n",
      "Epoch 94/100\n",
      "28/28 [==============================] - 5s 188ms/step - loss: 2.5755e-05\n",
      "Epoch 95/100\n",
      "28/28 [==============================] - 5s 192ms/step - loss: 2.7667e-05\n",
      "Epoch 96/100\n",
      "28/28 [==============================] - 5s 192ms/step - loss: 2.7318e-05\n",
      "Epoch 97/100\n",
      "28/28 [==============================] - 5s 192ms/step - loss: 2.2108e-05\n",
      "Epoch 98/100\n",
      "28/28 [==============================] - 5s 195ms/step - loss: 2.3410e-05\n",
      "Epoch 99/100\n",
      "28/28 [==============================] - 5s 194ms/step - loss: 2.3227e-05\n",
      "Epoch 100/100\n",
      "28/28 [==============================] - 5s 192ms/step - loss: 2.5884e-05\n"
     ]
    },
    {
     "data": {
      "text/plain": [
       "<keras.callbacks.History at 0x7f31cc71ce48>"
      ]
     },
     "execution_count": 16,
     "metadata": {},
     "output_type": "execute_result"
    }
   ],
   "source": [
    "#training code\n",
    "import pandas as pd\n",
    "import math\n",
    "import pandas_datareader as dataread\n",
    "import numpy as np\n",
    "from sklearn.preprocessing import MinMaxScaler \n",
    "from keras.models import Sequential\n",
    "from keras.layers import Dense,LSTM \n",
    "import matplotlib.pyplot as plt\n",
    "\n",
    "plt.style.use('fivethirtyeight')\n",
    "\n",
    "df = dataread.DataReader('AAPL', data_source='yahoo', start='2012-01-03', end='2020-12-17')\n",
    "\n",
    "data=df.filter(['Close'])\n",
    "\n",
    "dataset =data.values\n",
    "\n",
    "training_data_len = math.ceil( len(dataset)*.8 )\n",
    "\n",
    "scaler = MinMaxScaler(feature_range=(0,1))\n",
    "scaled_data = scaler.fit_transform(dataset)\n",
    "\n",
    "\n",
    "train_data = scaled_data[0: training_data_len, :]\n",
    "\n",
    "x_train = []\n",
    "\n",
    "y_train = []\n",
    "\n",
    "for i in range (60, len(train_data)):\n",
    "\n",
    "    x_train.append(train_data[i-60:i,0])\n",
    "    y_train.append(train_data[i, 0])\n",
    "\n",
    "x_train, y_train = np.array(x_train), np.array(y_train)\n",
    "\n",
    "x_train = np.reshape(x_train, (x_train.shape[0], x_train.shape [1], 1))\n",
    "\n",
    "model = Sequential()\n",
    "\n",
    "model.add(LSTM(50, return_sequences=True,input_shape=(x_train.shape[1], 1))) \n",
    "model.add(LSTM(50, return_sequences=False))\n",
    "model.add(Dense(25))\n",
    "model.add(Dense(1))\n",
    "\n",
    "model.compile(optimizer='adam', loss='mean_squared_error')\n",
    "model.fit(x_train,y_train,\n",
    "epochs = 100, batch_size=64,verbose=1)"
   ]
  },
  {
   "cell_type": "code",
   "execution_count": 17,
   "id": "adapted-season",
   "metadata": {
    "scrolled": true
   },
   "outputs": [
    {
     "name": "stderr",
     "output_type": "stream",
     "text": [
      "/srv/conda/envs/notebook/lib/python3.6/site-packages/ipykernel_launcher.py:23: SettingWithCopyWarning: \n",
      "A value is trying to be set on a copy of a slice from a DataFrame.\n",
      "Try using .loc[row_indexer,col_indexer] = value instead\n",
      "\n",
      "See the caveats in the documentation: https://pandas.pydata.org/pandas-docs/stable/user_guide/indexing.html#returning-a-view-versus-a-copy\n"
     ]
    },
    {
     "data": {
      "image/png": "[encoded data removed]",
      "text/plain": [
       "<Figure size 1152x504 with 1 Axes>"
      ]
     },
     "metadata": {},
     "output_type": "display_data"
    }
   ],
   "source": [
    "test_data = scaled_data[training_data_len - 60: , :]\n",
    "\n",
    "x_test =[]\n",
    "\n",
    "y_test= dataset[training_data_len:, :]\n",
    "\n",
    "for i in range (60,len(test_data)):\n",
    "    x_test.append(test_data[i-60:i, 0])\n",
    "\n",
    "x_test = np.array(x_test)\n",
    "    \n",
    "x_test = np.reshape(x_test,(x_test.shape[0], x_test.shape[1],1))\n",
    "\n",
    "predictions = model.predict(x_test)\n",
    "\n",
    "predictions = scaler.inverse_transform(predictions)\n",
    "\n",
    "rmse = np.sqrt (np.mean(predictions - y_test) **2)\n",
    "\n",
    "train = data[:training_data_len]\n",
    "\n",
    "valid = data[training_data_len:]\n",
    "valid['Predictions'] = predictions\n",
    "\n",
    "#plotting predictrion of apple stock\n",
    "\n",
    "plt.figure(figsize=(16, 7))\n",
    "\n",
    "plt.title('Apple stock prediction Model')\n",
    "\n",
    "plt.xlabel('Date', fontsize=17)\n",
    "\n",
    "plt.ylabel('USD $', fontsize=17)\n",
    "\n",
    "plt.plot(train ['Close'])\n",
    "\n",
    "plt.plot(valid[['Close', 'Predictions']])\n",
    "\n",
    "plt.legend (['Trained', 'actual Value', 'Predictions'], loc='lower right') \n",
    "plt.show()"
   ]
  },
  {
   "cell_type": "code",
   "execution_count": 20,
   "id": "cutting-scott",
   "metadata": {
    "scrolled": true
   },
   "outputs": [
    {
     "name": "stdout",
     "output_type": "stream",
     "text": [
      "                 Close  Predictions\n",
      "Date                               \n",
      "2019-03-08   43.227501    43.809902\n",
      "2019-03-11   44.724998    43.649475\n",
      "2019-03-12   45.227501    44.526485\n",
      "2019-03-13   45.427502    45.401253\n",
      "2019-03-14   45.932499    45.897457\n",
      "...                ...          ...\n",
      "2020-12-11  122.410004   119.634705\n",
      "2020-12-14  121.779999   119.368637\n",
      "2020-12-15  127.879997   118.723778\n",
      "2020-12-16  127.809998   124.227356\n",
      "2020-12-17  128.699997   125.823288\n",
      "\n",
      "[451 rows x 2 columns]\n"
     ]
    }
   ],
   "source": [
    "print(valid)"
   ]
  },
  {
   "cell_type": "code",
   "execution_count": 43,
   "id": "continuing-cabinet",
   "metadata": {},
   "outputs": [
    {
     "name": "stdout",
     "output_type": "stream",
     "text": [
      "Root Mean Squared Error(test) :2.4012948618243395\n",
      "prediction accuracy :0.9911508789498201\n"
     ]
    }
   ],
   "source": [
    "#evaluation\n",
    "import math\n",
    "from sklearn.metrics import mean_squared_error\n",
    "\n",
    "rmse_score = math.sqrt(mean_squared_error(y_test,predictions))\n",
    "print(f\"Root Mean Squared Error(test) :{rmse_score}\")\n",
    "\n",
    "from sklearn.metrics import r2_score\n",
    "print(f\"prediction accuracy :{r2_score(y_test,predictions)}\")\n"
   ]
  },
  {
   "cell_type": "code",
   "execution_count": 30,
   "id": "primary-subscription",
   "metadata": {},
   "outputs": [
    {
     "name": "stdout",
     "output_type": "stream",
     "text": [
      "Enter date:2020-07-1\n",
      "predicted prcice of stock is :US $ 90.621574\n"
     ]
    }
   ],
   "source": [
    "#testing our model for given date for prediction of stock closing price\n",
    "\n",
    "user=input(\"Enter date:\")\n",
    "aaple_stock = dataread.DataReader('AAPL', data_source='yahoo', start='2012-01-03', end=user)\n",
    "\n",
    "new_df = aaple_stock.filter (['Close'])\n",
    "\n",
    "prev_60_days = new_df[-60:].values\n",
    "\n",
    "prev_60_days_scaled = scaler.transform(prev_60_days) \n",
    "\n",
    "x_test= []\n",
    "\n",
    "x_test.append(prev_60_days_scaled)\n",
    "\n",
    "x_test = np.array(x_test)\n",
    "\n",
    "x_test = np.reshape (x_test, (x_test.shape [0], x_test.shape[1], 1))\n",
    "\n",
    "pred_price = model.predict(x_test)\n",
    "\n",
    "pred_price = scaler.inverse_transform(pred_price)\n",
    "\n",
    "print ('predicted prcice of stock is :US $',pred_price[0][0])"
   ]
  },
  {
   "cell_type": "code",
   "execution_count": 33,
   "id": "described-platform",
   "metadata": {
    "scrolled": true
   },
   "outputs": [
    {
     "name": "stdout",
     "output_type": "stream",
     "text": [
      "Date\n",
      "2020-07-01    91.027496\n",
      "Name: Close, dtype: float64\n"
     ]
    }
   ],
   "source": [
    "#checking todays stock price\n",
    "apple_stock2= dataread.DataReader('AAPL', data_source='yahoo', start='2020-07-01', end='2020-07-01')\n",
    "print(apple_stock2['Close'])\n"
   ]
  },
  {
   "cell_type": "code",
   "execution_count": 27,
   "id": "presidential-truth",
   "metadata": {
    "scrolled": false
   },
   "outputs": [
    {
     "data": {
      "text/plain": [
       "array([[126.22125]], dtype=float32)"
      ]
     },
     "execution_count": 27,
     "metadata": {},
     "output_type": "execute_result"
    }
   ],
   "source": []
  },
  {
   "cell_type": "code",
   "execution_count": null,
   "id": "certified-arlington",
   "metadata": {},
   "outputs": [],
   "source": []
  }
 ],
 "metadata": {
  "kernelspec": {
   "display_name": "Python 3",
   "language": "python",
   "name": "python3"
  },
  "language_info": {
   "codemirror_mode": {
    "name": "ipython",
    "version": 3
   },
   "file_extension": ".py",
   "mimetype": "text/x-python",
   "name": "python",
   "nbconvert_exporter": "python",
   "pygments_lexer": "ipython3",
   "version": "3.6.13"
  }
 },
 "nbformat": 4,
 "nbformat_minor": 5
}
